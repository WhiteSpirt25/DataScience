{
 "cells": [
  {
   "cell_type": "code",
   "execution_count": 1,
   "metadata": {},
   "outputs": [],
   "source": [
    "import pandas as pd\n",
    "\n",
    "train = pd.read_csv(\"train.csv\")\n",
    "#dropping collumns with na rows\n",
    "train = train.dropna(axis= 1)\n",
    "\n",
    "#parsing with label encoding for strings\n",
    "numb = train.select_dtypes(exclude =['object'])\n",
    "notnumb = train.select_dtypes(exclude =['int64','float64'])\n",
    "notnumb = notnumb.drop('timestamp', axis=1)\n",
    "\n",
    "from sklearn.preprocessing import LabelEncoder\n",
    "le = LabelEncoder()\n",
    "notnumble = notnumb.apply(le.fit_transform)\n",
    "\n",
    "date = [None] * 30471\n",
    "for i in range(30471):\n",
    "    date[i] = [int(train['timestamp'][i][1:4]),int(train['timestamp'][i][5:7]), int(train['timestamp'][i][8:10])]\n",
    "df = pd.DataFrame(date,columns=['year','month','day'])\n",
    "\n",
    "train = numb.join(df)\n",
    "train = train.join(notnumble)\n",
    "\n",
    "#train splitting\n",
    "from sklearn.model_selection import train_test_split\n",
    "\n",
    "X = train.drop('price_doc', axis=1)\n",
    "Y = train['price_doc']\n",
    "\n",
    "X_train, X_test, Y_train, Y_test = train_test_split(\n",
    "    X, Y, test_size=0.33, random_state=0)\n",
    "#learning & results\n",
    "from sklearn import ensemble\n",
    "from sklearn.model_selection import GridSearchCV\n"
   ]
  },
  {
   "cell_type": "code",
   "execution_count": 2,
   "metadata": {},
   "outputs": [
    {
     "name": "stdout",
     "output_type": "stream",
     "text": [
      "Fitting 3 folds for each of 8 candidates, totalling 24 fits\n[CV] n_estimators=40 .................................................\n"
     ]
    },
    {
     "name": "stderr",
     "output_type": "stream",
     "text": [
      "[Parallel(n_jobs=1)]: Using backend SequentialBackend with 1 concurrent workers.\n"
     ]
    },
    {
     "name": "stdout",
     "output_type": "stream",
     "text": [
      "[CV] ........ n_estimators=40, score=0.6750215268185089, total=  10.3s\n[CV] n_estimators=40 .................................................\n"
     ]
    },
    {
     "name": "stderr",
     "output_type": "stream",
     "text": [
      "[Parallel(n_jobs=1)]: Done   1 out of   1 | elapsed:   10.3s remaining:    0.0s\n"
     ]
    },
    {
     "name": "stdout",
     "output_type": "stream",
     "text": [
      "[CV] ........ n_estimators=40, score=0.6360779195234627, total=   9.8s\n[CV] n_estimators=40 .................................................\n"
     ]
    },
    {
     "name": "stderr",
     "output_type": "stream",
     "text": [
      "[Parallel(n_jobs=1)]: Done   2 out of   2 | elapsed:   20.3s remaining:    0.0s\n"
     ]
    },
    {
     "name": "stdout",
     "output_type": "stream",
     "text": [
      "[CV] ........ n_estimators=40, score=0.6697567096862809, total=   9.8s\n[CV] n_estimators=60 .................................................\n"
     ]
    },
    {
     "name": "stdout",
     "output_type": "stream",
     "text": [
      "[CV] ........ n_estimators=60, score=0.6853057657456325, total=  14.1s\n[CV] n_estimators=60 .................................................\n"
     ]
    },
    {
     "name": "stdout",
     "output_type": "stream",
     "text": [
      "[CV] ........ n_estimators=60, score=0.6466410353549409, total=  14.3s\n[CV] n_estimators=60 .................................................\n"
     ]
    },
    {
     "name": "stdout",
     "output_type": "stream",
     "text": [
      "[CV] ........ n_estimators=60, score=0.6808210686915921, total=  14.0s\n[CV] n_estimators=80 .................................................\n"
     ]
    },
    {
     "name": "stdout",
     "output_type": "stream",
     "text": [
      "[CV] ........ n_estimators=80, score=0.6927574785933219, total=  17.8s\n[CV] n_estimators=80 .................................................\n"
     ]
    },
    {
     "name": "stdout",
     "output_type": "stream",
     "text": [
      "[CV] ......... n_estimators=80, score=0.652581536964151, total=  18.1s\n[CV] n_estimators=80 .................................................\n"
     ]
    },
    {
     "name": "stdout",
     "output_type": "stream",
     "text": [
      "[CV] ........ n_estimators=80, score=0.6883700772775943, total=  18.1s\n[CV] n_estimators=100 ................................................\n"
     ]
    },
    {
     "name": "stdout",
     "output_type": "stream",
     "text": [
      "[CV] ....... n_estimators=100, score=0.6967092949291689, total=  21.8s\n[CV] n_estimators=100 ................................................\n"
     ]
    },
    {
     "name": "stdout",
     "output_type": "stream",
     "text": [
      "[CV] ....... n_estimators=100, score=0.6547412883749031, total=  22.0s\n[CV] n_estimators=100 ................................................\n"
     ]
    },
    {
     "name": "stdout",
     "output_type": "stream",
     "text": [
      "[CV] ....... n_estimators=100, score=0.6892414429180407, total=  22.0s\n[CV] n_estimators=120 ................................................\n"
     ]
    },
    {
     "name": "stdout",
     "output_type": "stream",
     "text": [
      "[CV] ....... n_estimators=120, score=0.6967705134448483, total=  25.9s\n[CV] n_estimators=120 ................................................\n"
     ]
    },
    {
     "name": "stdout",
     "output_type": "stream",
     "text": [
      "[CV] ....... n_estimators=120, score=0.6547027538076753, total=  25.9s\n[CV] n_estimators=120 ................................................\n"
     ]
    },
    {
     "name": "stdout",
     "output_type": "stream",
     "text": [
      "[CV] ....... n_estimators=120, score=0.6931514441443488, total=  25.7s\n[CV] n_estimators=140 ................................................\n"
     ]
    },
    {
     "name": "stdout",
     "output_type": "stream",
     "text": [
      "[CV] ....... n_estimators=140, score=0.6975909907395925, total=  29.8s\n[CV] n_estimators=140 ................................................\n"
     ]
    },
    {
     "name": "stdout",
     "output_type": "stream",
     "text": [
      "[CV] ........ n_estimators=140, score=0.655078674244463, total=  30.1s\n[CV] n_estimators=140 ................................................\n"
     ]
    },
    {
     "name": "stdout",
     "output_type": "stream",
     "text": [
      "[CV] ........ n_estimators=140, score=0.695096115913094, total=  30.0s\n[CV] n_estimators=160 ................................................\n"
     ]
    },
    {
     "name": "stdout",
     "output_type": "stream",
     "text": [
      "[CV] ....... n_estimators=160, score=0.6993143020031444, total=  33.5s\n[CV] n_estimators=160 ................................................\n"
     ]
    },
    {
     "name": "stdout",
     "output_type": "stream",
     "text": [
      "[CV] ....... n_estimators=160, score=0.6569114784474054, total=  33.4s\n[CV] n_estimators=160 ................................................\n"
     ]
    },
    {
     "name": "stdout",
     "output_type": "stream",
     "text": [
      "[CV] ....... n_estimators=160, score=0.6959864384116946, total=  33.4s\n[CV] n_estimators=180 ................................................\n"
     ]
    },
    {
     "name": "stdout",
     "output_type": "stream",
     "text": [
      "[CV] ....... n_estimators=180, score=0.6997624074714461, total=  37.5s\n[CV] n_estimators=180 ................................................\n"
     ]
    },
    {
     "name": "stdout",
     "output_type": "stream",
     "text": [
      "[CV] ....... n_estimators=180, score=0.6564472135713336, total=  37.4s\n[CV] n_estimators=180 ................................................\n"
     ]
    },
    {
     "name": "stdout",
     "output_type": "stream",
     "text": [
      "[CV] ....... n_estimators=180, score=0.6958692211285805, total=  37.1s\n"
     ]
    },
    {
     "name": "stderr",
     "output_type": "stream",
     "text": [
      "[Parallel(n_jobs=1)]: Done  24 out of  24 | elapsed:  9.6min finished\n"
     ]
    },
    {
     "data": {
      "text/plain": [
       "GridSearchCV(cv=3, error_score='raise-deprecating',\n       estimator=GradientBoostingRegressor(alpha=0.9, criterion='friedman_mse', init=None,\n             learning_rate=0.1, loss='ls', max_depth=4, max_features=None,\n             max_leaf_nodes=None, min_impurity_decrease=0.0,\n             min_impurity_split=None, min_samples_leaf=3,\n             min_sampl...=None, subsample=1.0, tol=0.0001,\n             validation_fraction=0.1, verbose=0, warm_start=False),\n       fit_params=None, iid='warn', n_jobs=None,\n       param_grid={'n_estimators': [40, 60, 80, 100, 120, 140, 160, 180]},\n       pre_dispatch='2*n_jobs', refit=True, return_train_score='warn',\n       scoring=None, verbose=3)"
      ]
     },
     "execution_count": 2,
     "metadata": {},
     "output_type": "execute_result"
    }
   ],
   "source": [
    "clf = ensemble.GradientBoostingRegressor(max_depth=4,min_samples_leaf=3,min_samples_split=6)\n",
    "parameters = {'n_estimators':[40,60,80,100,120,140,160,180]}\n",
    "gridClf = GridSearchCV(clf,parameters,cv=3,verbose=3)\n",
    "gridClf.fit(X_train,Y_train)"
   ]
  },
  {
   "cell_type": "code",
   "execution_count": 3,
   "metadata": {},
   "outputs": [
    {
     "data": {
      "text/plain": [
       "{'n_estimators': 160}"
      ]
     },
     "execution_count": 3,
     "metadata": {},
     "output_type": "execute_result"
    }
   ],
   "source": [
    "gridClf.best_params_"
   ]
  },
  {
   "cell_type": "code",
   "execution_count": 4,
   "metadata": {},
   "outputs": [
    {
     "name": "stdout",
     "output_type": "stream",
     "text": [
      "Accuracy: 0.64 (+/- 0.21)\n"
     ]
    }
   ],
   "source": [
    "clf = ensemble.GradientBoostingRegressor(max_depth=4,min_samples_leaf=3,min_samples_split=6,n_estimators=160)\n",
    "from sklearn.model_selection import cross_val_score\n",
    "scores = cross_val_score(clf, X,Y,cv=5)\n",
    "print(\"Accuracy: %0.2f (+/- %0.2f)\" % (scores.mean(), scores.std() * 2))"
   ]
  },
  {
   "cell_type": "code",
   "execution_count": 5,
   "metadata": {},
   "outputs": [
    {
     "name": "stdout",
     "output_type": "stream",
     "text": [
      "0.22159306823207334\n"
     ]
    }
   ],
   "source": [
    "from sklearn.metrics import mean_squared_log_error\n",
    "print(mean_squared_log_error(Y_test,gridClf.predict(X_test)))"
   ]
  }
 ],
 "metadata": {
  "kernelspec": {
   "display_name": "Python 2",
   "language": "python",
   "name": "python2"
  },
  "language_info": {
   "codemirror_mode": {
    "name": "ipython",
    "version": 2
   },
   "file_extension": ".py",
   "mimetype": "text/x-python",
   "name": "python",
   "nbconvert_exporter": "python",
   "pygments_lexer": "ipython2",
   "version": "2.7.6"
  }
 },
 "nbformat": 4,
 "nbformat_minor": 0
}
