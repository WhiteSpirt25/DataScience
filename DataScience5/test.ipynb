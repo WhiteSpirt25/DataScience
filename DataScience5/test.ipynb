{
 "cells": [
  {
   "cell_type": "code",
   "execution_count": 1,
   "metadata": {},
   "outputs": [],
   "source": [
    "import pandas as pd\n",
    "\n",
    "train = pd.read_csv(\"train.csv\")\n",
    "#dropping collumns with na rows\n",
    "train = train.dropna(axis= 1)\n",
    "\n",
    "#parsing with label encoding for strings\n",
    "numb = train.select_dtypes(exclude =['object'])\n",
    "notnumb = train.select_dtypes(exclude =['int64','float64'])\n",
    "notnumb = notnumb.drop('timestamp', axis=1)\n",
    "\n",
    "from sklearn.preprocessing import LabelEncoder\n",
    "le = LabelEncoder()\n",
    "notnumble = notnumb.apply(le.fit_transform)\n",
    "\n",
    "date = [None] * 30471\n",
    "for i in range(30471):\n",
    "    date[i] = [int(train['timestamp'][i][1:4]),int(train['timestamp'][i][5:7]), int(train['timestamp'][i][8:10])]\n",
    "df = pd.DataFrame(date,columns=['year','month','day'])\n",
    "\n",
    "train = numb.join(df)\n",
    "train = train.join(notnumble)\n",
    "\n",
    "#train splitting\n",
    "from sklearn.model_selection import train_test_split\n",
    "\n",
    "X = train.drop('price_doc', axis=1)\n",
    "Y = train['price_doc']\n",
    "\n",
    "X_train, X_test, Y_train, Y_test = train_test_split(\n",
    "        X, Y, test_size=0.33, random_state=0)\n",
    "#learning & results\n",
    "from sklearn import ensemble\n",
    "from sklearn.model_selection import GridSearchCV\n",
    "clf = ensemble.GradientBoostingRegressor()\n",
    "parameters = {'min_samples_split':[2,3,4,5,6],\n",
    "             'min_samples_leaf':[1,2,3,4,5],\n",
    "              'max_depth':[1,2,3,4,5,6]}\n",
    "gridClf = GridSearchCV(clf,parameters,cv=3,verbose=3)\n",
    "gridClf.fit(X_train,Y_train)"
   ]
  },
  {
   "cell_type": "code",
   "execution_count": 3,
   "metadata": {},
   "outputs": [
    {
     "name": "stdout",
     "output_type": "stream",
     "text": [
      "{'max_depth': 4, 'min_samples_leaf': 3, 'min_samples_split': 6}\n0.6812829943120212\n"
     ]
    }
   ],
   "source": [
    "print(gridClf.best_params_)\n",
    "print(gridClf.best_score_)"
   ]
  },
  {
   "cell_type": "code",
   "execution_count": 4,
   "metadata": {},
   "outputs": [
    {
     "name": "stdout",
     "output_type": "stream",
     "text": [
      "0.22416279087363777\n"
     ]
    }
   ],
   "source": [
    "from sklearn.metrics import mean_squared_log_error\n",
    "print(mean_squared_log_error(Y_test,gridClf.predict(X_test)))"
   ]
  },
  {
   "cell_type": "code",
   "execution_count": null,
   "metadata": {},
   "outputs": [],
   "source": []
  }
 ],
 "metadata": {
  "kernelspec": {
   "display_name": "Python 2",
   "language": "python",
   "name": "python2"
  },
  "language_info": {
   "codemirror_mode": {
    "name": "ipython",
    "version": 2
   },
   "file_extension": ".py",
   "mimetype": "text/x-python",
   "name": "python",
   "nbconvert_exporter": "python",
   "pygments_lexer": "ipython2",
   "version": "2.7.6"
  }
 },
 "nbformat": 4,
 "nbformat_minor": 0
}
