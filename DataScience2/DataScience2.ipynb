{
 "cells": [
  {
   "cell_type": "code",
   "execution_count": 1,
   "metadata": {
    "collapsed": true
   },
   "outputs": [],
   "source": [
    "import pandas as pd\n",
    "import numpy as np\n",
    "\n",
    "#reading & parsing\n",
    "train = pd.read_csv(\"train.csv\")\n",
    "\n",
    "from sklearn.model_selection import train_test_split\n",
    "\n",
    "date = [None] * 10886\n",
    "for i in range(10886):\n",
    "    date[i] = [int(train['datetime'][i][1:4]), int(train['datetime'][i][5:7]), int(train['datetime'][i][8:10]), int(train['datetime'][i][11:13])]\n",
    "df = pd.DataFrame(date,columns=['year', 'month', 'day', 'time'])\n",
    "train = train.join(df)\n",
    "\n",
    "#test train spitting\n",
    "X = train.drop(['datetime','casual', 'registered', 'count'], axis = 1)\n",
    "y = train['count']\n",
    "\n",
    "X_train, X_test, y_train, y_test = train_test_split(\n",
    "     X, y, test_size=0.33, random_state=0)\n",
    "\n",
    "#tree is growing\n",
    "from sklearn import tree\n",
    "clf = tree.DecisionTreeRegressor(max_depth=11, min_samples_split=3)\n",
    "\n",
    "\n",
    "\n",
    "#printing scores and grid scores\n",
    "from sklearn.model_selection import cross_val_score\n",
    "scores = cross_val_score(clf, X,y,cv=5)"
   ]
  },
  {
   "cell_type": "code",
   "execution_count": 2,
   "metadata": {},
   "outputs": [
    {
     "name": "stdout",
     "output_type": "stream",
     "text": [
      "Accuracy: 0.59 (+/- 0.57)\n"
     ]
    }
   ],
   "source": [
    "print(\"Accuracy: %0.2f (+/- %0.2f)\" % (scores.mean(), scores.std() * 2))"
   ]
  },
  {
   "cell_type": "code",
   "execution_count": 4,
   "metadata": {
    "collapsed": false
   },
   "outputs": [
    {
     "name": "stdout",
     "output_type": "stream",
     "text": [
      "0.02139040397078457\n"
     ]
    }
   ],
   "source": [
    "clf.fit(X_train,y_train)\n",
    "from sklearn.metrics import f1_score\n",
    "y_pred = np.array(clf.predict(X_test), dtype = int)\n",
    "print(f1_score(y_test , y_pred, average='weighted'))"
   ]
  }
 ],
 "metadata": {
  "kernelspec": {
   "display_name": "Python 2",
   "language": "python",
   "name": "python2"
  },
  "language_info": {
   "codemirror_mode": {
    "name": "ipython",
    "version": 2
   },
   "file_extension": ".py",
   "mimetype": "text/x-python",
   "name": "python",
   "nbconvert_exporter": "python",
   "pygments_lexer": "ipython2",
   "version": "2.7.6"
  }
 },
 "nbformat": 4,
 "nbformat_minor": 0
}
